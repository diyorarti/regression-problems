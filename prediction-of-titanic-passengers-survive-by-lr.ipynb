{
 "cells": [
  {
   "cell_type": "code",
   "execution_count": 1,
   "id": "d98ace2f",
   "metadata": {
    "_cell_guid": "b1076dfc-b9ad-4769-8c92-a6c4dae69d19",
    "_uuid": "8f2839f25d086af736a60e9eeb907d3b93b6e0e5",
    "execution": {
     "iopub.execute_input": "2023-06-27T10:51:24.040629Z",
     "iopub.status.busy": "2023-06-27T10:51:24.040255Z",
     "iopub.status.idle": "2023-06-27T10:51:25.675487Z",
     "shell.execute_reply": "2023-06-27T10:51:25.674571Z"
    },
    "papermill": {
     "duration": 1.646266,
     "end_time": "2023-06-27T10:51:25.678079",
     "exception": false,
     "start_time": "2023-06-27T10:51:24.031813",
     "status": "completed"
    },
    "tags": []
   },
   "outputs": [],
   "source": [
    "import pandas as pd\n",
    "import numpy as np \n",
    "import matplotlib.pyplot as plt\n",
    "import seaborn as sns\n",
    "from sklearn.preprocessing import OrdinalEncoder, StandardScaler, PolynomialFeatures\n",
    "from sklearn.model_selection import train_test_split\n",
    "from sklearn.linear_model import LogisticRegression\n",
    "from sklearn.metrics import accuracy_score, confusion_matrix"
   ]
  },
  {
   "cell_type": "code",
   "execution_count": 2,
   "id": "de9881cf",
   "metadata": {
    "execution": {
     "iopub.execute_input": "2023-06-27T10:51:25.693147Z",
     "iopub.status.busy": "2023-06-27T10:51:25.692029Z",
     "iopub.status.idle": "2023-06-27T10:51:25.745269Z",
     "shell.execute_reply": "2023-06-27T10:51:25.744234Z"
    },
    "papermill": {
     "duration": 0.063171,
     "end_time": "2023-06-27T10:51:25.747824",
     "exception": false,
     "start_time": "2023-06-27T10:51:25.684653",
     "status": "completed"
    },
    "tags": []
   },
   "outputs": [
    {
     "data": {
      "text/html": [
       "<div>\n",
       "<style scoped>\n",
       "    .dataframe tbody tr th:only-of-type {\n",
       "        vertical-align: middle;\n",
       "    }\n",
       "\n",
       "    .dataframe tbody tr th {\n",
       "        vertical-align: top;\n",
       "    }\n",
       "\n",
       "    .dataframe thead th {\n",
       "        text-align: right;\n",
       "    }\n",
       "</style>\n",
       "<table border=\"1\" class=\"dataframe\">\n",
       "  <thead>\n",
       "    <tr style=\"text-align: right;\">\n",
       "      <th></th>\n",
       "      <th>PassengerId</th>\n",
       "      <th>Survived</th>\n",
       "      <th>Pclass</th>\n",
       "      <th>Name</th>\n",
       "      <th>Sex</th>\n",
       "      <th>Age</th>\n",
       "      <th>SibSp</th>\n",
       "      <th>Parch</th>\n",
       "      <th>Ticket</th>\n",
       "      <th>Fare</th>\n",
       "      <th>Cabin</th>\n",
       "      <th>Embarked</th>\n",
       "    </tr>\n",
       "  </thead>\n",
       "  <tbody>\n",
       "    <tr>\n",
       "      <th>0</th>\n",
       "      <td>1</td>\n",
       "      <td>0</td>\n",
       "      <td>3</td>\n",
       "      <td>Braund, Mr. Owen Harris</td>\n",
       "      <td>male</td>\n",
       "      <td>22.0</td>\n",
       "      <td>1</td>\n",
       "      <td>0</td>\n",
       "      <td>A/5 21171</td>\n",
       "      <td>7.2500</td>\n",
       "      <td>NaN</td>\n",
       "      <td>S</td>\n",
       "    </tr>\n",
       "    <tr>\n",
       "      <th>1</th>\n",
       "      <td>2</td>\n",
       "      <td>1</td>\n",
       "      <td>1</td>\n",
       "      <td>Cumings, Mrs. John Bradley (Florence Briggs Th...</td>\n",
       "      <td>female</td>\n",
       "      <td>38.0</td>\n",
       "      <td>1</td>\n",
       "      <td>0</td>\n",
       "      <td>PC 17599</td>\n",
       "      <td>71.2833</td>\n",
       "      <td>C85</td>\n",
       "      <td>C</td>\n",
       "    </tr>\n",
       "    <tr>\n",
       "      <th>2</th>\n",
       "      <td>3</td>\n",
       "      <td>1</td>\n",
       "      <td>3</td>\n",
       "      <td>Heikkinen, Miss. Laina</td>\n",
       "      <td>female</td>\n",
       "      <td>26.0</td>\n",
       "      <td>0</td>\n",
       "      <td>0</td>\n",
       "      <td>STON/O2. 3101282</td>\n",
       "      <td>7.9250</td>\n",
       "      <td>NaN</td>\n",
       "      <td>S</td>\n",
       "    </tr>\n",
       "    <tr>\n",
       "      <th>3</th>\n",
       "      <td>4</td>\n",
       "      <td>1</td>\n",
       "      <td>1</td>\n",
       "      <td>Futrelle, Mrs. Jacques Heath (Lily May Peel)</td>\n",
       "      <td>female</td>\n",
       "      <td>35.0</td>\n",
       "      <td>1</td>\n",
       "      <td>0</td>\n",
       "      <td>113803</td>\n",
       "      <td>53.1000</td>\n",
       "      <td>C123</td>\n",
       "      <td>S</td>\n",
       "    </tr>\n",
       "    <tr>\n",
       "      <th>4</th>\n",
       "      <td>5</td>\n",
       "      <td>0</td>\n",
       "      <td>3</td>\n",
       "      <td>Allen, Mr. William Henry</td>\n",
       "      <td>male</td>\n",
       "      <td>35.0</td>\n",
       "      <td>0</td>\n",
       "      <td>0</td>\n",
       "      <td>373450</td>\n",
       "      <td>8.0500</td>\n",
       "      <td>NaN</td>\n",
       "      <td>S</td>\n",
       "    </tr>\n",
       "  </tbody>\n",
       "</table>\n",
       "</div>"
      ],
      "text/plain": [
       "   PassengerId  Survived  Pclass  \\\n",
       "0            1         0       3   \n",
       "1            2         1       1   \n",
       "2            3         1       3   \n",
       "3            4         1       1   \n",
       "4            5         0       3   \n",
       "\n",
       "                                                Name     Sex   Age  SibSp  \\\n",
       "0                            Braund, Mr. Owen Harris    male  22.0      1   \n",
       "1  Cumings, Mrs. John Bradley (Florence Briggs Th...  female  38.0      1   \n",
       "2                             Heikkinen, Miss. Laina  female  26.0      0   \n",
       "3       Futrelle, Mrs. Jacques Heath (Lily May Peel)  female  35.0      1   \n",
       "4                           Allen, Mr. William Henry    male  35.0      0   \n",
       "\n",
       "   Parch            Ticket     Fare Cabin Embarked  \n",
       "0      0         A/5 21171   7.2500   NaN        S  \n",
       "1      0          PC 17599  71.2833   C85        C  \n",
       "2      0  STON/O2. 3101282   7.9250   NaN        S  \n",
       "3      0            113803  53.1000  C123        S  \n",
       "4      0            373450   8.0500   NaN        S  "
      ]
     },
     "execution_count": 2,
     "metadata": {},
     "output_type": "execute_result"
    }
   ],
   "source": [
    "train_data = pd.read_csv(\"/kaggle/input/titanic/train.csv\")\n",
    "train_data.head()"
   ]
  },
  {
   "cell_type": "code",
   "execution_count": 3,
   "id": "784661a7",
   "metadata": {
    "execution": {
     "iopub.execute_input": "2023-06-27T10:51:25.762671Z",
     "iopub.status.busy": "2023-06-27T10:51:25.761714Z",
     "iopub.status.idle": "2023-06-27T10:51:25.768476Z",
     "shell.execute_reply": "2023-06-27T10:51:25.767423Z"
    },
    "papermill": {
     "duration": 0.016492,
     "end_time": "2023-06-27T10:51:25.770866",
     "exception": false,
     "start_time": "2023-06-27T10:51:25.754374",
     "status": "completed"
    },
    "tags": []
   },
   "outputs": [],
   "source": [
    "def train_data_pre(data):\n",
    "    data.drop(['PassengerId','Name' ,'Cabin'], axis=1, inplace=True)\n",
    "    data['Embarked'] = data['Embarked'].fillna('S')\n",
    "    data['Age'] = data['Age'].fillna(29.758889)\n",
    "    encoder = OrdinalEncoder()\n",
    "    data['Ticket'] = encoder.fit_transform(data[['Ticket']])\n",
    "    data = pd.get_dummies(data)\n",
    "    return data"
   ]
  },
  {
   "cell_type": "code",
   "execution_count": 4,
   "id": "5d8cd320",
   "metadata": {
    "execution": {
     "iopub.execute_input": "2023-06-27T10:51:25.785244Z",
     "iopub.status.busy": "2023-06-27T10:51:25.784472Z",
     "iopub.status.idle": "2023-06-27T10:51:25.807602Z",
     "shell.execute_reply": "2023-06-27T10:51:25.806810Z"
    },
    "papermill": {
     "duration": 0.032999,
     "end_time": "2023-06-27T10:51:25.810004",
     "exception": false,
     "start_time": "2023-06-27T10:51:25.777005",
     "status": "completed"
    },
    "tags": []
   },
   "outputs": [],
   "source": [
    "tr_data = train_data_pre(train_data)"
   ]
  },
  {
   "cell_type": "code",
   "execution_count": 5,
   "id": "7b528b86",
   "metadata": {
    "execution": {
     "iopub.execute_input": "2023-06-27T10:51:25.824043Z",
     "iopub.status.busy": "2023-06-27T10:51:25.823741Z",
     "iopub.status.idle": "2023-06-27T10:51:25.845324Z",
     "shell.execute_reply": "2023-06-27T10:51:25.844240Z"
    },
    "papermill": {
     "duration": 0.031452,
     "end_time": "2023-06-27T10:51:25.847806",
     "exception": false,
     "start_time": "2023-06-27T10:51:25.816354",
     "status": "completed"
    },
    "tags": []
   },
   "outputs": [
    {
     "data": {
      "text/html": [
       "<div>\n",
       "<style scoped>\n",
       "    .dataframe tbody tr th:only-of-type {\n",
       "        vertical-align: middle;\n",
       "    }\n",
       "\n",
       "    .dataframe tbody tr th {\n",
       "        vertical-align: top;\n",
       "    }\n",
       "\n",
       "    .dataframe thead th {\n",
       "        text-align: right;\n",
       "    }\n",
       "</style>\n",
       "<table border=\"1\" class=\"dataframe\">\n",
       "  <thead>\n",
       "    <tr style=\"text-align: right;\">\n",
       "      <th></th>\n",
       "      <th>PassengerId</th>\n",
       "      <th>Pclass</th>\n",
       "      <th>Name</th>\n",
       "      <th>Sex</th>\n",
       "      <th>Age</th>\n",
       "      <th>SibSp</th>\n",
       "      <th>Parch</th>\n",
       "      <th>Ticket</th>\n",
       "      <th>Fare</th>\n",
       "      <th>Cabin</th>\n",
       "      <th>Embarked</th>\n",
       "    </tr>\n",
       "  </thead>\n",
       "  <tbody>\n",
       "    <tr>\n",
       "      <th>0</th>\n",
       "      <td>892</td>\n",
       "      <td>3</td>\n",
       "      <td>Kelly, Mr. James</td>\n",
       "      <td>male</td>\n",
       "      <td>34.5</td>\n",
       "      <td>0</td>\n",
       "      <td>0</td>\n",
       "      <td>330911</td>\n",
       "      <td>7.8292</td>\n",
       "      <td>NaN</td>\n",
       "      <td>Q</td>\n",
       "    </tr>\n",
       "    <tr>\n",
       "      <th>1</th>\n",
       "      <td>893</td>\n",
       "      <td>3</td>\n",
       "      <td>Wilkes, Mrs. James (Ellen Needs)</td>\n",
       "      <td>female</td>\n",
       "      <td>47.0</td>\n",
       "      <td>1</td>\n",
       "      <td>0</td>\n",
       "      <td>363272</td>\n",
       "      <td>7.0000</td>\n",
       "      <td>NaN</td>\n",
       "      <td>S</td>\n",
       "    </tr>\n",
       "    <tr>\n",
       "      <th>2</th>\n",
       "      <td>894</td>\n",
       "      <td>2</td>\n",
       "      <td>Myles, Mr. Thomas Francis</td>\n",
       "      <td>male</td>\n",
       "      <td>62.0</td>\n",
       "      <td>0</td>\n",
       "      <td>0</td>\n",
       "      <td>240276</td>\n",
       "      <td>9.6875</td>\n",
       "      <td>NaN</td>\n",
       "      <td>Q</td>\n",
       "    </tr>\n",
       "    <tr>\n",
       "      <th>3</th>\n",
       "      <td>895</td>\n",
       "      <td>3</td>\n",
       "      <td>Wirz, Mr. Albert</td>\n",
       "      <td>male</td>\n",
       "      <td>27.0</td>\n",
       "      <td>0</td>\n",
       "      <td>0</td>\n",
       "      <td>315154</td>\n",
       "      <td>8.6625</td>\n",
       "      <td>NaN</td>\n",
       "      <td>S</td>\n",
       "    </tr>\n",
       "    <tr>\n",
       "      <th>4</th>\n",
       "      <td>896</td>\n",
       "      <td>3</td>\n",
       "      <td>Hirvonen, Mrs. Alexander (Helga E Lindqvist)</td>\n",
       "      <td>female</td>\n",
       "      <td>22.0</td>\n",
       "      <td>1</td>\n",
       "      <td>1</td>\n",
       "      <td>3101298</td>\n",
       "      <td>12.2875</td>\n",
       "      <td>NaN</td>\n",
       "      <td>S</td>\n",
       "    </tr>\n",
       "  </tbody>\n",
       "</table>\n",
       "</div>"
      ],
      "text/plain": [
       "   PassengerId  Pclass                                          Name     Sex  \\\n",
       "0          892       3                              Kelly, Mr. James    male   \n",
       "1          893       3              Wilkes, Mrs. James (Ellen Needs)  female   \n",
       "2          894       2                     Myles, Mr. Thomas Francis    male   \n",
       "3          895       3                              Wirz, Mr. Albert    male   \n",
       "4          896       3  Hirvonen, Mrs. Alexander (Helga E Lindqvist)  female   \n",
       "\n",
       "    Age  SibSp  Parch   Ticket     Fare Cabin Embarked  \n",
       "0  34.5      0      0   330911   7.8292   NaN        Q  \n",
       "1  47.0      1      0   363272   7.0000   NaN        S  \n",
       "2  62.0      0      0   240276   9.6875   NaN        Q  \n",
       "3  27.0      0      0   315154   8.6625   NaN        S  \n",
       "4  22.0      1      1  3101298  12.2875   NaN        S  "
      ]
     },
     "execution_count": 5,
     "metadata": {},
     "output_type": "execute_result"
    }
   ],
   "source": [
    "test_data = pd.read_csv('/kaggle/input/titanic/test.csv')\n",
    "test_data.head()"
   ]
  },
  {
   "cell_type": "code",
   "execution_count": 6,
   "id": "67785c44",
   "metadata": {
    "execution": {
     "iopub.execute_input": "2023-06-27T10:51:25.863995Z",
     "iopub.status.busy": "2023-06-27T10:51:25.863687Z",
     "iopub.status.idle": "2023-06-27T10:51:25.869813Z",
     "shell.execute_reply": "2023-06-27T10:51:25.868789Z"
    },
    "papermill": {
     "duration": 0.01592,
     "end_time": "2023-06-27T10:51:25.871848",
     "exception": false,
     "start_time": "2023-06-27T10:51:25.855928",
     "status": "completed"
    },
    "tags": []
   },
   "outputs": [],
   "source": [
    "def test_data_pre(data):\n",
    "    data.drop(['PassengerId', 'Name','Cabin'], axis=1, inplace=True)\n",
    "    data['Fare'] = data['Fare'].fillna(32.204208)\n",
    "    data['Age'] = data['Age'].fillna(29.758889)\n",
    "    encoder = OrdinalEncoder()\n",
    "    data['Ticket'] = encoder.fit_transform(data[['Ticket']])\n",
    "    data = pd.get_dummies(data)\n",
    "    return data"
   ]
  },
  {
   "cell_type": "code",
   "execution_count": 7,
   "id": "7fa8d088",
   "metadata": {
    "execution": {
     "iopub.execute_input": "2023-06-27T10:51:25.887558Z",
     "iopub.status.busy": "2023-06-27T10:51:25.886849Z",
     "iopub.status.idle": "2023-06-27T10:51:25.900015Z",
     "shell.execute_reply": "2023-06-27T10:51:25.899284Z"
    },
    "papermill": {
     "duration": 0.023592,
     "end_time": "2023-06-27T10:51:25.902158",
     "exception": false,
     "start_time": "2023-06-27T10:51:25.878566",
     "status": "completed"
    },
    "tags": []
   },
   "outputs": [],
   "source": [
    "te_data = test_data_pre(test_data)"
   ]
  },
  {
   "cell_type": "code",
   "execution_count": 8,
   "id": "b9103975",
   "metadata": {
    "execution": {
     "iopub.execute_input": "2023-06-27T10:51:25.918053Z",
     "iopub.status.busy": "2023-06-27T10:51:25.917333Z",
     "iopub.status.idle": "2023-06-27T10:51:25.928218Z",
     "shell.execute_reply": "2023-06-27T10:51:25.927481Z"
    },
    "papermill": {
     "duration": 0.021434,
     "end_time": "2023-06-27T10:51:25.930628",
     "exception": false,
     "start_time": "2023-06-27T10:51:25.909194",
     "status": "completed"
    },
    "tags": []
   },
   "outputs": [],
   "source": [
    "sample = pd.read_csv(\"/kaggle/input/titanic/gender_submission.csv\")\n",
    "te_data['Survived'] = sample['Survived']"
   ]
  },
  {
   "cell_type": "code",
   "execution_count": 9,
   "id": "d086b459",
   "metadata": {
    "execution": {
     "iopub.execute_input": "2023-06-27T10:51:25.945935Z",
     "iopub.status.busy": "2023-06-27T10:51:25.945403Z",
     "iopub.status.idle": "2023-06-27T10:51:25.962582Z",
     "shell.execute_reply": "2023-06-27T10:51:25.961551Z"
    },
    "papermill": {
     "duration": 0.027419,
     "end_time": "2023-06-27T10:51:25.964673",
     "exception": false,
     "start_time": "2023-06-27T10:51:25.937254",
     "status": "completed"
    },
    "tags": []
   },
   "outputs": [
    {
     "data": {
      "text/html": [
       "<div>\n",
       "<style scoped>\n",
       "    .dataframe tbody tr th:only-of-type {\n",
       "        vertical-align: middle;\n",
       "    }\n",
       "\n",
       "    .dataframe tbody tr th {\n",
       "        vertical-align: top;\n",
       "    }\n",
       "\n",
       "    .dataframe thead th {\n",
       "        text-align: right;\n",
       "    }\n",
       "</style>\n",
       "<table border=\"1\" class=\"dataframe\">\n",
       "  <thead>\n",
       "    <tr style=\"text-align: right;\">\n",
       "      <th></th>\n",
       "      <th>Survived</th>\n",
       "      <th>Pclass</th>\n",
       "      <th>Age</th>\n",
       "      <th>SibSp</th>\n",
       "      <th>Parch</th>\n",
       "      <th>Ticket</th>\n",
       "      <th>Fare</th>\n",
       "      <th>Sex_female</th>\n",
       "      <th>Sex_male</th>\n",
       "      <th>Embarked_C</th>\n",
       "      <th>Embarked_Q</th>\n",
       "      <th>Embarked_S</th>\n",
       "    </tr>\n",
       "  </thead>\n",
       "  <tbody>\n",
       "    <tr>\n",
       "      <th>0</th>\n",
       "      <td>0</td>\n",
       "      <td>3</td>\n",
       "      <td>22.0</td>\n",
       "      <td>1</td>\n",
       "      <td>0</td>\n",
       "      <td>523.0</td>\n",
       "      <td>7.2500</td>\n",
       "      <td>0</td>\n",
       "      <td>1</td>\n",
       "      <td>0</td>\n",
       "      <td>0</td>\n",
       "      <td>1</td>\n",
       "    </tr>\n",
       "    <tr>\n",
       "      <th>1</th>\n",
       "      <td>1</td>\n",
       "      <td>1</td>\n",
       "      <td>38.0</td>\n",
       "      <td>1</td>\n",
       "      <td>0</td>\n",
       "      <td>596.0</td>\n",
       "      <td>71.2833</td>\n",
       "      <td>1</td>\n",
       "      <td>0</td>\n",
       "      <td>1</td>\n",
       "      <td>0</td>\n",
       "      <td>0</td>\n",
       "    </tr>\n",
       "    <tr>\n",
       "      <th>2</th>\n",
       "      <td>1</td>\n",
       "      <td>3</td>\n",
       "      <td>26.0</td>\n",
       "      <td>0</td>\n",
       "      <td>0</td>\n",
       "      <td>669.0</td>\n",
       "      <td>7.9250</td>\n",
       "      <td>1</td>\n",
       "      <td>0</td>\n",
       "      <td>0</td>\n",
       "      <td>0</td>\n",
       "      <td>1</td>\n",
       "    </tr>\n",
       "    <tr>\n",
       "      <th>3</th>\n",
       "      <td>1</td>\n",
       "      <td>1</td>\n",
       "      <td>35.0</td>\n",
       "      <td>1</td>\n",
       "      <td>0</td>\n",
       "      <td>49.0</td>\n",
       "      <td>53.1000</td>\n",
       "      <td>1</td>\n",
       "      <td>0</td>\n",
       "      <td>0</td>\n",
       "      <td>0</td>\n",
       "      <td>1</td>\n",
       "    </tr>\n",
       "    <tr>\n",
       "      <th>4</th>\n",
       "      <td>0</td>\n",
       "      <td>3</td>\n",
       "      <td>35.0</td>\n",
       "      <td>0</td>\n",
       "      <td>0</td>\n",
       "      <td>472.0</td>\n",
       "      <td>8.0500</td>\n",
       "      <td>0</td>\n",
       "      <td>1</td>\n",
       "      <td>0</td>\n",
       "      <td>0</td>\n",
       "      <td>1</td>\n",
       "    </tr>\n",
       "  </tbody>\n",
       "</table>\n",
       "</div>"
      ],
      "text/plain": [
       "   Survived  Pclass   Age  SibSp  Parch  Ticket     Fare  Sex_female  \\\n",
       "0         0       3  22.0      1      0   523.0   7.2500           0   \n",
       "1         1       1  38.0      1      0   596.0  71.2833           1   \n",
       "2         1       3  26.0      0      0   669.0   7.9250           1   \n",
       "3         1       1  35.0      1      0    49.0  53.1000           1   \n",
       "4         0       3  35.0      0      0   472.0   8.0500           0   \n",
       "\n",
       "   Sex_male  Embarked_C  Embarked_Q  Embarked_S  \n",
       "0         1           0           0           1  \n",
       "1         0           1           0           0  \n",
       "2         0           0           0           1  \n",
       "3         0           0           0           1  \n",
       "4         1           0           0           1  "
      ]
     },
     "execution_count": 9,
     "metadata": {},
     "output_type": "execute_result"
    }
   ],
   "source": [
    "data = pd.concat([tr_data, te_data], axis=0)\n",
    "data.head()"
   ]
  },
  {
   "cell_type": "code",
   "execution_count": 10,
   "id": "2f2da2cc",
   "metadata": {
    "execution": {
     "iopub.execute_input": "2023-06-27T10:51:25.981326Z",
     "iopub.status.busy": "2023-06-27T10:51:25.980703Z",
     "iopub.status.idle": "2023-06-27T10:51:25.985103Z",
     "shell.execute_reply": "2023-06-27T10:51:25.984311Z"
    },
    "papermill": {
     "duration": 0.015332,
     "end_time": "2023-06-27T10:51:25.987339",
     "exception": false,
     "start_time": "2023-06-27T10:51:25.972007",
     "status": "completed"
    },
    "tags": []
   },
   "outputs": [],
   "source": [
    "#x = data.drop(\"Survived\", axis=1)\n",
    "#y = data[['Survived']]\n",
    "\n",
    "#x_train, x_test, y_train, y_test = train_test_split(x, y, test_size=0.2, random_state=42)"
   ]
  },
  {
   "cell_type": "code",
   "execution_count": 11,
   "id": "bf61dd09",
   "metadata": {
    "execution": {
     "iopub.execute_input": "2023-06-27T10:51:26.003677Z",
     "iopub.status.busy": "2023-06-27T10:51:26.003311Z",
     "iopub.status.idle": "2023-06-27T10:51:26.007160Z",
     "shell.execute_reply": "2023-06-27T10:51:26.006194Z"
    },
    "papermill": {
     "duration": 0.014874,
     "end_time": "2023-06-27T10:51:26.009514",
     "exception": false,
     "start_time": "2023-06-27T10:51:25.994640",
     "status": "completed"
    },
    "tags": []
   },
   "outputs": [],
   "source": [
    "#model = LogisticRegression()\n",
    "#model.fit(x_train, y_train)"
   ]
  },
  {
   "cell_type": "code",
   "execution_count": 12,
   "id": "c1e58f92",
   "metadata": {
    "execution": {
     "iopub.execute_input": "2023-06-27T10:51:26.025875Z",
     "iopub.status.busy": "2023-06-27T10:51:26.025523Z",
     "iopub.status.idle": "2023-06-27T10:51:26.029422Z",
     "shell.execute_reply": "2023-06-27T10:51:26.028402Z"
    },
    "papermill": {
     "duration": 0.014677,
     "end_time": "2023-06-27T10:51:26.031386",
     "exception": false,
     "start_time": "2023-06-27T10:51:26.016709",
     "status": "completed"
    },
    "tags": []
   },
   "outputs": [],
   "source": [
    "#yhat = model.predict(x_test)\n",
    "#acc = accuracy_score(y_test, yhat)\n",
    "#acc"
   ]
  },
  {
   "cell_type": "code",
   "execution_count": 13,
   "id": "4fb56170",
   "metadata": {
    "execution": {
     "iopub.execute_input": "2023-06-27T10:51:26.048932Z",
     "iopub.status.busy": "2023-06-27T10:51:26.048592Z",
     "iopub.status.idle": "2023-06-27T10:51:26.052849Z",
     "shell.execute_reply": "2023-06-27T10:51:26.051688Z"
    },
    "papermill": {
     "duration": 0.014688,
     "end_time": "2023-06-27T10:51:26.054990",
     "exception": false,
     "start_time": "2023-06-27T10:51:26.040302",
     "status": "completed"
    },
    "tags": []
   },
   "outputs": [],
   "source": [
    "#te_data.drop('Survived', axis=1, inplace=True)\n",
    "#predictions = model.predict(te_data)\n",
    "\n",
    "#sample['Survived'] = predictions\n",
    "\n",
    "#sample.to_csv('Submission_csv', index=False)"
   ]
  },
  {
   "cell_type": "markdown",
   "id": "b71aa00d",
   "metadata": {
    "papermill": {
     "duration": 0.006891,
     "end_time": "2023-06-27T10:51:26.069276",
     "exception": false,
     "start_time": "2023-06-27T10:51:26.062385",
     "status": "completed"
    },
    "tags": []
   },
   "source": [
    "# Model development by scaling and polynomial feature"
   ]
  },
  {
   "cell_type": "code",
   "execution_count": 14,
   "id": "9d98b4b1",
   "metadata": {
    "execution": {
     "iopub.execute_input": "2023-06-27T10:51:26.084888Z",
     "iopub.status.busy": "2023-06-27T10:51:26.084506Z",
     "iopub.status.idle": "2023-06-27T10:51:36.380543Z",
     "shell.execute_reply": "2023-06-27T10:51:36.379027Z"
    },
    "papermill": {
     "duration": 10.308824,
     "end_time": "2023-06-27T10:51:36.384971",
     "exception": false,
     "start_time": "2023-06-27T10:51:26.076147",
     "status": "completed"
    },
    "tags": []
   },
   "outputs": [
    {
     "name": "stderr",
     "output_type": "stream",
     "text": [
      "/opt/conda/lib/python3.10/site-packages/sklearn/utils/validation.py:1143: DataConversionWarning: A column-vector y was passed when a 1d array was expected. Please change the shape of y to (n_samples, ), for example using ravel().\n",
      "  y = column_or_1d(y, warn=True)\n",
      "/opt/conda/lib/python3.10/site-packages/sklearn/utils/validation.py:1143: DataConversionWarning: A column-vector y was passed when a 1d array was expected. Please change the shape of y to (n_samples, ), for example using ravel().\n",
      "  y = column_or_1d(y, warn=True)\n",
      "/opt/conda/lib/python3.10/site-packages/sklearn/linear_model/_logistic.py:458: ConvergenceWarning: lbfgs failed to converge (status=1):\n",
      "STOP: TOTAL NO. of ITERATIONS REACHED LIMIT.\n",
      "\n",
      "Increase the number of iterations (max_iter) or scale the data as shown in:\n",
      "    https://scikit-learn.org/stable/modules/preprocessing.html\n",
      "Please also refer to the documentation for alternative solver options:\n",
      "    https://scikit-learn.org/stable/modules/linear_model.html#logistic-regression\n",
      "  n_iter_i = _check_optimize_result(\n",
      "/opt/conda/lib/python3.10/site-packages/sklearn/utils/validation.py:1143: DataConversionWarning: A column-vector y was passed when a 1d array was expected. Please change the shape of y to (n_samples, ), for example using ravel().\n",
      "  y = column_or_1d(y, warn=True)\n",
      "/opt/conda/lib/python3.10/site-packages/sklearn/linear_model/_logistic.py:458: ConvergenceWarning: lbfgs failed to converge (status=1):\n",
      "STOP: TOTAL NO. of ITERATIONS REACHED LIMIT.\n",
      "\n",
      "Increase the number of iterations (max_iter) or scale the data as shown in:\n",
      "    https://scikit-learn.org/stable/modules/preprocessing.html\n",
      "Please also refer to the documentation for alternative solver options:\n",
      "    https://scikit-learn.org/stable/modules/linear_model.html#logistic-regression\n",
      "  n_iter_i = _check_optimize_result(\n",
      "/opt/conda/lib/python3.10/site-packages/sklearn/utils/validation.py:1143: DataConversionWarning: A column-vector y was passed when a 1d array was expected. Please change the shape of y to (n_samples, ), for example using ravel().\n",
      "  y = column_or_1d(y, warn=True)\n",
      "/opt/conda/lib/python3.10/site-packages/sklearn/linear_model/_logistic.py:458: ConvergenceWarning: lbfgs failed to converge (status=1):\n",
      "STOP: TOTAL NO. of ITERATIONS REACHED LIMIT.\n",
      "\n",
      "Increase the number of iterations (max_iter) or scale the data as shown in:\n",
      "    https://scikit-learn.org/stable/modules/preprocessing.html\n",
      "Please also refer to the documentation for alternative solver options:\n",
      "    https://scikit-learn.org/stable/modules/linear_model.html#logistic-regression\n",
      "  n_iter_i = _check_optimize_result(\n",
      "/opt/conda/lib/python3.10/site-packages/sklearn/utils/validation.py:1143: DataConversionWarning: A column-vector y was passed when a 1d array was expected. Please change the shape of y to (n_samples, ), for example using ravel().\n",
      "  y = column_or_1d(y, warn=True)\n",
      "/opt/conda/lib/python3.10/site-packages/sklearn/linear_model/_logistic.py:458: ConvergenceWarning: lbfgs failed to converge (status=1):\n",
      "STOP: TOTAL NO. of ITERATIONS REACHED LIMIT.\n",
      "\n",
      "Increase the number of iterations (max_iter) or scale the data as shown in:\n",
      "    https://scikit-learn.org/stable/modules/preprocessing.html\n",
      "Please also refer to the documentation for alternative solver options:\n",
      "    https://scikit-learn.org/stable/modules/linear_model.html#logistic-regression\n",
      "  n_iter_i = _check_optimize_result(\n",
      "/opt/conda/lib/python3.10/site-packages/sklearn/utils/validation.py:1143: DataConversionWarning: A column-vector y was passed when a 1d array was expected. Please change the shape of y to (n_samples, ), for example using ravel().\n",
      "  y = column_or_1d(y, warn=True)\n",
      "/opt/conda/lib/python3.10/site-packages/sklearn/linear_model/_logistic.py:458: ConvergenceWarning: lbfgs failed to converge (status=1):\n",
      "STOP: TOTAL NO. of ITERATIONS REACHED LIMIT.\n",
      "\n",
      "Increase the number of iterations (max_iter) or scale the data as shown in:\n",
      "    https://scikit-learn.org/stable/modules/preprocessing.html\n",
      "Please also refer to the documentation for alternative solver options:\n",
      "    https://scikit-learn.org/stable/modules/linear_model.html#logistic-regression\n",
      "  n_iter_i = _check_optimize_result(\n",
      "/opt/conda/lib/python3.10/site-packages/sklearn/utils/validation.py:1143: DataConversionWarning: A column-vector y was passed when a 1d array was expected. Please change the shape of y to (n_samples, ), for example using ravel().\n",
      "  y = column_or_1d(y, warn=True)\n",
      "/opt/conda/lib/python3.10/site-packages/sklearn/linear_model/_logistic.py:458: ConvergenceWarning: lbfgs failed to converge (status=1):\n",
      "STOP: TOTAL NO. of ITERATIONS REACHED LIMIT.\n",
      "\n",
      "Increase the number of iterations (max_iter) or scale the data as shown in:\n",
      "    https://scikit-learn.org/stable/modules/preprocessing.html\n",
      "Please also refer to the documentation for alternative solver options:\n",
      "    https://scikit-learn.org/stable/modules/linear_model.html#logistic-regression\n",
      "  n_iter_i = _check_optimize_result(\n"
     ]
    }
   ],
   "source": [
    "x = data.drop(\"Survived\", axis=1)\n",
    "y = data[['Survived']]\n",
    "\n",
    "\n",
    "train_accuracy = []\n",
    "test_accuracy = []\n",
    "for i in range(1, 8):\n",
    "    poly = PolynomialFeatures(degree=i, include_bias=False)\n",
    "    x_mapped = poly.fit_transform(x)\n",
    "\n",
    "    scaler = StandardScaler()\n",
    "    x_mapped_scaled = scaler.fit_transform(x_mapped)\n",
    "    \n",
    "    x_train, x_test, y_train, y_test = train_test_split(x_mapped_scaled, y, test_size=0.2, random_state=42)\n",
    "    \n",
    "    model = LogisticRegression()\n",
    "    model.fit(x_train, y_train)\n",
    "    \n",
    "    train_yhat = model.predict(x_train)\n",
    "    train_acc = accuracy_score(y_train, train_yhat)\n",
    "    train_accuracy.append(train_acc)\n",
    "    \n",
    "    test_yhat = model.predict(x_test)\n",
    "    test_acc = accuracy_score(y_test, test_yhat)\n",
    "    test_accuracy.append(test_acc)"
   ]
  },
  {
   "cell_type": "code",
   "execution_count": 15,
   "id": "a75ba2a3",
   "metadata": {
    "execution": {
     "iopub.execute_input": "2023-06-27T10:51:36.420970Z",
     "iopub.status.busy": "2023-06-27T10:51:36.420292Z",
     "iopub.status.idle": "2023-06-27T10:51:36.875299Z",
     "shell.execute_reply": "2023-06-27T10:51:36.874251Z"
    },
    "papermill": {
     "duration": 0.475495,
     "end_time": "2023-06-27T10:51:36.877579",
     "exception": false,
     "start_time": "2023-06-27T10:51:36.402084",
     "status": "completed"
    },
    "tags": []
   },
   "outputs": [
    {
     "data": {
      "image/png": "[encoded data removed]",
      "text/plain": [
       "<Figure size 1000x400 with 1 Axes>"
      ]
     },
     "metadata": {},
     "output_type": "display_data"
    }
   ],
   "source": [
    "plt.figure(figsize=(10,4))\n",
    "plt.plot(train_accuracy)\n",
    "plt.plot(test_accuracy)\n",
    "#plt.xticks(ticks = len(range(1, 8)), label=range(1, 8))\n",
    "plt.legend(['train_acc', 'test_acc'])\n",
    "plt.grid()\n",
    "plt.show()"
   ]
  },
  {
   "cell_type": "code",
   "execution_count": 16,
   "id": "21a86b5a",
   "metadata": {
    "execution": {
     "iopub.execute_input": "2023-06-27T10:51:36.896442Z",
     "iopub.status.busy": "2023-06-27T10:51:36.895300Z",
     "iopub.status.idle": "2023-06-27T10:51:37.088497Z",
     "shell.execute_reply": "2023-06-27T10:51:37.087133Z"
    },
    "papermill": {
     "duration": 0.207238,
     "end_time": "2023-06-27T10:51:37.093096",
     "exception": false,
     "start_time": "2023-06-27T10:51:36.885858",
     "status": "completed"
    },
    "tags": []
   },
   "outputs": [
    {
     "name": "stderr",
     "output_type": "stream",
     "text": [
      "/opt/conda/lib/python3.10/site-packages/sklearn/utils/validation.py:1143: DataConversionWarning: A column-vector y was passed when a 1d array was expected. Please change the shape of y to (n_samples, ), for example using ravel().\n",
      "  y = column_or_1d(y, warn=True)\n",
      "/opt/conda/lib/python3.10/site-packages/sklearn/linear_model/_logistic.py:458: ConvergenceWarning: lbfgs failed to converge (status=1):\n",
      "STOP: TOTAL NO. of ITERATIONS REACHED LIMIT.\n",
      "\n",
      "Increase the number of iterations (max_iter) or scale the data as shown in:\n",
      "    https://scikit-learn.org/stable/modules/preprocessing.html\n",
      "Please also refer to the documentation for alternative solver options:\n",
      "    https://scikit-learn.org/stable/modules/linear_model.html#logistic-regression\n",
      "  n_iter_i = _check_optimize_result(\n"
     ]
    },
    {
     "data": {
      "text/html": [
       "<style>#sk-container-id-1 {color: black;background-color: white;}#sk-container-id-1 pre{padding: 0;}#sk-container-id-1 div.sk-toggleable {background-color: white;}#sk-container-id-1 label.sk-toggleable__label {cursor: pointer;display: block;width: 100%;margin-bottom: 0;padding: 0.3em;box-sizing: border-box;text-align: center;}#sk-container-id-1 label.sk-toggleable__label-arrow:before {content: \"▸\";float: left;margin-right: 0.25em;color: #696969;}#sk-container-id-1 label.sk-toggleable__label-arrow:hover:before {color: black;}#sk-container-id-1 div.sk-estimator:hover label.sk-toggleable__label-arrow:before {color: black;}#sk-container-id-1 div.sk-toggleable__content {max-height: 0;max-width: 0;overflow: hidden;text-align: left;background-color: #f0f8ff;}#sk-container-id-1 div.sk-toggleable__content pre {margin: 0.2em;color: black;border-radius: 0.25em;background-color: #f0f8ff;}#sk-container-id-1 input.sk-toggleable__control:checked~div.sk-toggleable__content {max-height: 200px;max-width: 100%;overflow: auto;}#sk-container-id-1 input.sk-toggleable__control:checked~label.sk-toggleable__label-arrow:before {content: \"▾\";}#sk-container-id-1 div.sk-estimator input.sk-toggleable__control:checked~label.sk-toggleable__label {background-color: #d4ebff;}#sk-container-id-1 div.sk-label input.sk-toggleable__control:checked~label.sk-toggleable__label {background-color: #d4ebff;}#sk-container-id-1 input.sk-hidden--visually {border: 0;clip: rect(1px 1px 1px 1px);clip: rect(1px, 1px, 1px, 1px);height: 1px;margin: -1px;overflow: hidden;padding: 0;position: absolute;width: 1px;}#sk-container-id-1 div.sk-estimator {font-family: monospace;background-color: #f0f8ff;border: 1px dotted black;border-radius: 0.25em;box-sizing: border-box;margin-bottom: 0.5em;}#sk-container-id-1 div.sk-estimator:hover {background-color: #d4ebff;}#sk-container-id-1 div.sk-parallel-item::after {content: \"\";width: 100%;border-bottom: 1px solid gray;flex-grow: 1;}#sk-container-id-1 div.sk-label:hover label.sk-toggleable__label {background-color: #d4ebff;}#sk-container-id-1 div.sk-serial::before {content: \"\";position: absolute;border-left: 1px solid gray;box-sizing: border-box;top: 0;bottom: 0;left: 50%;z-index: 0;}#sk-container-id-1 div.sk-serial {display: flex;flex-direction: column;align-items: center;background-color: white;padding-right: 0.2em;padding-left: 0.2em;position: relative;}#sk-container-id-1 div.sk-item {position: relative;z-index: 1;}#sk-container-id-1 div.sk-parallel {display: flex;align-items: stretch;justify-content: center;background-color: white;position: relative;}#sk-container-id-1 div.sk-item::before, #sk-container-id-1 div.sk-parallel-item::before {content: \"\";position: absolute;border-left: 1px solid gray;box-sizing: border-box;top: 0;bottom: 0;left: 50%;z-index: -1;}#sk-container-id-1 div.sk-parallel-item {display: flex;flex-direction: column;z-index: 1;position: relative;background-color: white;}#sk-container-id-1 div.sk-parallel-item:first-child::after {align-self: flex-end;width: 50%;}#sk-container-id-1 div.sk-parallel-item:last-child::after {align-self: flex-start;width: 50%;}#sk-container-id-1 div.sk-parallel-item:only-child::after {width: 0;}#sk-container-id-1 div.sk-dashed-wrapped {border: 1px dashed gray;margin: 0 0.4em 0.5em 0.4em;box-sizing: border-box;padding-bottom: 0.4em;background-color: white;}#sk-container-id-1 div.sk-label label {font-family: monospace;font-weight: bold;display: inline-block;line-height: 1.2em;}#sk-container-id-1 div.sk-label-container {text-align: center;}#sk-container-id-1 div.sk-container {/* jupyter's `normalize.less` sets `[hidden] { display: none; }` but bootstrap.min.css set `[hidden] { display: none !important; }` so we also need the `!important` here to be able to override the default hidden behavior on the sphinx rendered scikit-learn.org. See: https://github.com/scikit-learn/scikit-learn/issues/21755 */display: inline-block !important;position: relative;}#sk-container-id-1 div.sk-text-repr-fallback {display: none;}</style><div id=\"sk-container-id-1\" class=\"sk-top-container\"><div class=\"sk-text-repr-fallback\"><pre>LogisticRegression()</pre><b>In a Jupyter environment, please rerun this cell to show the HTML representation or trust the notebook. <br />On GitHub, the HTML representation is unable to render, please try loading this page with nbviewer.org.</b></div><div class=\"sk-container\" hidden><div class=\"sk-item\"><div class=\"sk-estimator sk-toggleable\"><input class=\"sk-toggleable__control sk-hidden--visually\" id=\"sk-estimator-id-1\" type=\"checkbox\" checked><label for=\"sk-estimator-id-1\" class=\"sk-toggleable__label sk-toggleable__label-arrow\">LogisticRegression</label><div class=\"sk-toggleable__content\"><pre>LogisticRegression()</pre></div></div></div></div></div>"
      ],
      "text/plain": [
       "LogisticRegression()"
      ]
     },
     "execution_count": 16,
     "metadata": {},
     "output_type": "execute_result"
    }
   ],
   "source": [
    "x = data.drop(\"Survived\", axis=1)\n",
    "y = data[['Survived']]\n",
    "\n",
    "poly = PolynomialFeatures(degree=4, include_bias=False)\n",
    "x_mapped = poly.fit_transform(x)\n",
    "\n",
    "scaler = StandardScaler()\n",
    "x_mapped_scaled = scaler.fit_transform(x_mapped)\n",
    "    \n",
    "x_train, x_test, y_train, y_test = train_test_split(x_mapped_scaled, y, test_size=0.2, random_state=42)\n",
    "    \n",
    "model = LogisticRegression()\n",
    "model.fit(x_train, y_train)"
   ]
  },
  {
   "cell_type": "code",
   "execution_count": 17,
   "id": "f847ebe4",
   "metadata": {
    "execution": {
     "iopub.execute_input": "2023-06-27T10:51:37.139733Z",
     "iopub.status.busy": "2023-06-27T10:51:37.139011Z",
     "iopub.status.idle": "2023-06-27T10:51:37.165212Z",
     "shell.execute_reply": "2023-06-27T10:51:37.163762Z"
    },
    "papermill": {
     "duration": 0.051524,
     "end_time": "2023-06-27T10:51:37.169651",
     "exception": false,
     "start_time": "2023-06-27T10:51:37.118127",
     "status": "completed"
    },
    "tags": []
   },
   "outputs": [
    {
     "data": {
      "text/plain": [
       "0.8625954198473282"
      ]
     },
     "execution_count": 17,
     "metadata": {},
     "output_type": "execute_result"
    }
   ],
   "source": [
    "yhat = model.predict(x_test)\n",
    "acc = accuracy_score(y_test, yhat)\n",
    "acc"
   ]
  },
  {
   "cell_type": "code",
   "execution_count": 18,
   "id": "ac0dd408",
   "metadata": {
    "execution": {
     "iopub.execute_input": "2023-06-27T10:51:37.211512Z",
     "iopub.status.busy": "2023-06-27T10:51:37.210817Z",
     "iopub.status.idle": "2023-06-27T10:51:37.252926Z",
     "shell.execute_reply": "2023-06-27T10:51:37.251463Z"
    },
    "papermill": {
     "duration": 0.068003,
     "end_time": "2023-06-27T10:51:37.257556",
     "exception": false,
     "start_time": "2023-06-27T10:51:37.189553",
     "status": "completed"
    },
    "tags": []
   },
   "outputs": [],
   "source": [
    "te_data.drop('Survived', axis=1, inplace=True)\n",
    "te_data = poly.fit_transform(te_data)\n",
    "predictions = model.predict(te_data)\n",
    "\n",
    "sample['Survived'] = predictions\n",
    "\n",
    "sample.to_csv('Submission_csv', index=False)"
   ]
  },
  {
   "cell_type": "code",
   "execution_count": null,
   "id": "3af2d038",
   "metadata": {
    "papermill": {
     "duration": 0.019297,
     "end_time": "2023-06-27T10:51:37.297116",
     "exception": false,
     "start_time": "2023-06-27T10:51:37.277819",
     "status": "completed"
    },
    "tags": []
   },
   "outputs": [],
   "source": []
  }
 ],
 "metadata": {
  "kernelspec": {
   "display_name": "Python 3",
   "language": "python",
   "name": "python3"
  },
  "language_info": {
   "codemirror_mode": {
    "name": "ipython",
    "version": 3
   },
   "file_extension": ".py",
   "mimetype": "text/x-python",
   "name": "python",
   "nbconvert_exporter": "python",
   "pygments_lexer": "ipython3",
   "version": "3.10.10"
  },
  "papermill": {
   "default_parameters": {},
   "duration": 25.076319,
   "end_time": "2023-06-27T10:51:38.243845",
   "environment_variables": {},
   "exception": null,
   "input_path": "__notebook__.ipynb",
   "output_path": "__notebook__.ipynb",
   "parameters": {},
   "start_time": "2023-06-27T10:51:13.167526",
   "version": "2.4.0"
  }
 },
 "nbformat": 4,
 "nbformat_minor": 5
}
