{
 "cells": [
  {
   "cell_type": "code",
   "execution_count": 1,
   "id": "c8e7b1a9",
   "metadata": {
    "execution": {
     "iopub.execute_input": "2023-06-27T08:47:21.215276Z",
     "iopub.status.busy": "2023-06-27T08:47:21.214899Z",
     "iopub.status.idle": "2023-06-27T08:47:27.182131Z",
     "shell.execute_reply": "2023-06-27T08:47:27.181197Z"
    },
    "papermill": {
     "duration": 5.974413,
     "end_time": "2023-06-27T08:47:27.184602",
     "exception": false,
     "start_time": "2023-06-27T08:47:21.210189",
     "status": "completed"
    },
    "tags": []
   },
   "outputs": [],
   "source": [
    "import pandas as pd\n",
    "import numpy as np\n",
    "from sklearn.model_selection import train_test_split\n",
    "from sklearn.metrics import mean_squared_error\n",
    "from sklearn.preprocessing import OrdinalEncoder\n",
    "from sklearn.linear_model import LinearRegression\n",
    "from sklearn.impute import SimpleImputer\n",
    "from fastai.tabular.all import *"
   ]
  },
  {
   "cell_type": "code",
   "execution_count": 2,
   "id": "d3a8121e",
   "metadata": {
    "execution": {
     "iopub.execute_input": "2023-06-27T08:47:27.193177Z",
     "iopub.status.busy": "2023-06-27T08:47:27.192670Z",
     "iopub.status.idle": "2023-06-27T08:47:27.280930Z",
     "shell.execute_reply": "2023-06-27T08:47:27.280035Z"
    },
    "papermill": {
     "duration": 0.094835,
     "end_time": "2023-06-27T08:47:27.283084",
     "exception": false,
     "start_time": "2023-06-27T08:47:27.188249",
     "status": "completed"
    },
    "tags": []
   },
   "outputs": [],
   "source": [
    "train_data = pd.read_csv(\"/kaggle/input/house-prices-advanced-regression-techniques/train.csv\")\n",
    "test_data = pd.read_csv('/kaggle/input/house-prices-advanced-regression-techniques/test.csv')\n",
    "submission = pd.read_csv(\"/kaggle/input/house-prices-advanced-regression-techniques/sample_submission.csv\")"
   ]
  },
  {
   "cell_type": "code",
   "execution_count": 3,
   "id": "325690c4",
   "metadata": {
    "execution": {
     "iopub.execute_input": "2023-06-27T08:47:27.292523Z",
     "iopub.status.busy": "2023-06-27T08:47:27.290819Z",
     "iopub.status.idle": "2023-06-27T08:47:27.300297Z",
     "shell.execute_reply": "2023-06-27T08:47:27.299391Z"
    },
    "papermill": {
     "duration": 0.015918,
     "end_time": "2023-06-27T08:47:27.302391",
     "exception": false,
     "start_time": "2023-06-27T08:47:27.286473",
     "status": "completed"
    },
    "tags": []
   },
   "outputs": [],
   "source": [
    "test_data['SalePrice'] = submission['SalePrice']"
   ]
  },
  {
   "cell_type": "code",
   "execution_count": 4,
   "id": "01e7a667",
   "metadata": {
    "execution": {
     "iopub.execute_input": "2023-06-27T08:47:27.309944Z",
     "iopub.status.busy": "2023-06-27T08:47:27.309667Z",
     "iopub.status.idle": "2023-06-27T08:47:27.317135Z",
     "shell.execute_reply": "2023-06-27T08:47:27.316067Z"
    },
    "papermill": {
     "duration": 0.013918,
     "end_time": "2023-06-27T08:47:27.319387",
     "exception": false,
     "start_time": "2023-06-27T08:47:27.305469",
     "status": "completed"
    },
    "tags": []
   },
   "outputs": [],
   "source": [
    "def data_prepariation(data):\n",
    "    \n",
    "    data.drop(['Id', 'Alley', 'PoolQC','Fence','MiscFeature'], axis=1, inplace=True)\n",
    "    \n",
    "    columns = data.columns\n",
    "    \n",
    "    num_col, cat_col = cont_cat_split(data)\n",
    "    \n",
    "    encoder = OrdinalEncoder()\n",
    "    data[cat_col] = encoder.fit_transform(data[cat_col])\n",
    "    \n",
    "    imputer = SimpleImputer(strategy = 'mean')\n",
    "    data_imputed = imputer.fit_transform(data)\n",
    "    data = pd.DataFrame(data_imputed, columns = columns)\n",
    "    return data "
   ]
  },
  {
   "cell_type": "code",
   "execution_count": 5,
   "id": "aae812d7",
   "metadata": {
    "execution": {
     "iopub.execute_input": "2023-06-27T08:47:27.326516Z",
     "iopub.status.busy": "2023-06-27T08:47:27.326241Z",
     "iopub.status.idle": "2023-06-27T08:47:27.485444Z",
     "shell.execute_reply": "2023-06-27T08:47:27.484504Z"
    },
    "papermill": {
     "duration": 0.165654,
     "end_time": "2023-06-27T08:47:27.487951",
     "exception": false,
     "start_time": "2023-06-27T08:47:27.322297",
     "status": "completed"
    },
    "tags": []
   },
   "outputs": [],
   "source": [
    "train_data = data_prepariation(train_data)\n",
    "\n",
    "test_data = data_prepariation(test_data)\n",
    "\n",
    "data = pd.concat([train_data, test_data], axis=0)"
   ]
  },
  {
   "cell_type": "code",
   "execution_count": 6,
   "id": "07490d34",
   "metadata": {
    "execution": {
     "iopub.execute_input": "2023-06-27T08:47:27.496335Z",
     "iopub.status.busy": "2023-06-27T08:47:27.496014Z",
     "iopub.status.idle": "2023-06-27T08:47:27.502677Z",
     "shell.execute_reply": "2023-06-27T08:47:27.501755Z"
    },
    "id": "mH_WmvDem_-K",
    "papermill": {
     "duration": 0.013479,
     "end_time": "2023-06-27T08:47:27.504954",
     "exception": false,
     "start_time": "2023-06-27T08:47:27.491475",
     "status": "completed"
    },
    "tags": []
   },
   "outputs": [],
   "source": [
    "x = data.drop( 'SalePrice', axis=1)\n",
    "y = data[['SalePrice']]"
   ]
  },
  {
   "cell_type": "code",
   "execution_count": 7,
   "id": "ada6b141",
   "metadata": {
    "execution": {
     "iopub.execute_input": "2023-06-27T08:47:27.512783Z",
     "iopub.status.busy": "2023-06-27T08:47:27.512501Z",
     "iopub.status.idle": "2023-06-27T08:47:27.576811Z",
     "shell.execute_reply": "2023-06-27T08:47:27.575647Z"
    },
    "id": "IudjvvQrn-1V",
    "outputId": "4054b41b-e69c-46c8-9bf3-4b3933ff1df8",
    "papermill": {
     "duration": 0.072006,
     "end_time": "2023-06-27T08:47:27.580222",
     "exception": false,
     "start_time": "2023-06-27T08:47:27.508216",
     "status": "completed"
    },
    "tags": []
   },
   "outputs": [
    {
     "data": {
      "text/html": [
       "<style>#sk-container-id-1 {color: black;background-color: white;}#sk-container-id-1 pre{padding: 0;}#sk-container-id-1 div.sk-toggleable {background-color: white;}#sk-container-id-1 label.sk-toggleable__label {cursor: pointer;display: block;width: 100%;margin-bottom: 0;padding: 0.3em;box-sizing: border-box;text-align: center;}#sk-container-id-1 label.sk-toggleable__label-arrow:before {content: \"▸\";float: left;margin-right: 0.25em;color: #696969;}#sk-container-id-1 label.sk-toggleable__label-arrow:hover:before {color: black;}#sk-container-id-1 div.sk-estimator:hover label.sk-toggleable__label-arrow:before {color: black;}#sk-container-id-1 div.sk-toggleable__content {max-height: 0;max-width: 0;overflow: hidden;text-align: left;background-color: #f0f8ff;}#sk-container-id-1 div.sk-toggleable__content pre {margin: 0.2em;color: black;border-radius: 0.25em;background-color: #f0f8ff;}#sk-container-id-1 input.sk-toggleable__control:checked~div.sk-toggleable__content {max-height: 200px;max-width: 100%;overflow: auto;}#sk-container-id-1 input.sk-toggleable__control:checked~label.sk-toggleable__label-arrow:before {content: \"▾\";}#sk-container-id-1 div.sk-estimator input.sk-toggleable__control:checked~label.sk-toggleable__label {background-color: #d4ebff;}#sk-container-id-1 div.sk-label input.sk-toggleable__control:checked~label.sk-toggleable__label {background-color: #d4ebff;}#sk-container-id-1 input.sk-hidden--visually {border: 0;clip: rect(1px 1px 1px 1px);clip: rect(1px, 1px, 1px, 1px);height: 1px;margin: -1px;overflow: hidden;padding: 0;position: absolute;width: 1px;}#sk-container-id-1 div.sk-estimator {font-family: monospace;background-color: #f0f8ff;border: 1px dotted black;border-radius: 0.25em;box-sizing: border-box;margin-bottom: 0.5em;}#sk-container-id-1 div.sk-estimator:hover {background-color: #d4ebff;}#sk-container-id-1 div.sk-parallel-item::after {content: \"\";width: 100%;border-bottom: 1px solid gray;flex-grow: 1;}#sk-container-id-1 div.sk-label:hover label.sk-toggleable__label {background-color: #d4ebff;}#sk-container-id-1 div.sk-serial::before {content: \"\";position: absolute;border-left: 1px solid gray;box-sizing: border-box;top: 0;bottom: 0;left: 50%;z-index: 0;}#sk-container-id-1 div.sk-serial {display: flex;flex-direction: column;align-items: center;background-color: white;padding-right: 0.2em;padding-left: 0.2em;position: relative;}#sk-container-id-1 div.sk-item {position: relative;z-index: 1;}#sk-container-id-1 div.sk-parallel {display: flex;align-items: stretch;justify-content: center;background-color: white;position: relative;}#sk-container-id-1 div.sk-item::before, #sk-container-id-1 div.sk-parallel-item::before {content: \"\";position: absolute;border-left: 1px solid gray;box-sizing: border-box;top: 0;bottom: 0;left: 50%;z-index: -1;}#sk-container-id-1 div.sk-parallel-item {display: flex;flex-direction: column;z-index: 1;position: relative;background-color: white;}#sk-container-id-1 div.sk-parallel-item:first-child::after {align-self: flex-end;width: 50%;}#sk-container-id-1 div.sk-parallel-item:last-child::after {align-self: flex-start;width: 50%;}#sk-container-id-1 div.sk-parallel-item:only-child::after {width: 0;}#sk-container-id-1 div.sk-dashed-wrapped {border: 1px dashed gray;margin: 0 0.4em 0.5em 0.4em;box-sizing: border-box;padding-bottom: 0.4em;background-color: white;}#sk-container-id-1 div.sk-label label {font-family: monospace;font-weight: bold;display: inline-block;line-height: 1.2em;}#sk-container-id-1 div.sk-label-container {text-align: center;}#sk-container-id-1 div.sk-container {/* jupyter's `normalize.less` sets `[hidden] { display: none; }` but bootstrap.min.css set `[hidden] { display: none !important; }` so we also need the `!important` here to be able to override the default hidden behavior on the sphinx rendered scikit-learn.org. See: https://github.com/scikit-learn/scikit-learn/issues/21755 */display: inline-block !important;position: relative;}#sk-container-id-1 div.sk-text-repr-fallback {display: none;}</style><div id=\"sk-container-id-1\" class=\"sk-top-container\"><div class=\"sk-text-repr-fallback\"><pre>LinearRegression()</pre><b>In a Jupyter environment, please rerun this cell to show the HTML representation or trust the notebook. <br />On GitHub, the HTML representation is unable to render, please try loading this page with nbviewer.org.</b></div><div class=\"sk-container\" hidden><div class=\"sk-item\"><div class=\"sk-estimator sk-toggleable\"><input class=\"sk-toggleable__control sk-hidden--visually\" id=\"sk-estimator-id-1\" type=\"checkbox\" checked><label for=\"sk-estimator-id-1\" class=\"sk-toggleable__label sk-toggleable__label-arrow\">LinearRegression</label><div class=\"sk-toggleable__content\"><pre>LinearRegression()</pre></div></div></div></div></div>"
      ],
      "text/plain": [
       "LinearRegression()"
      ]
     },
     "execution_count": 7,
     "metadata": {},
     "output_type": "execute_result"
    }
   ],
   "source": [
    "model = LinearRegression()\n",
    "model.fit(x, y)"
   ]
  },
  {
   "cell_type": "code",
   "execution_count": 8,
   "id": "6c13f3ef",
   "metadata": {
    "execution": {
     "iopub.execute_input": "2023-06-27T08:47:27.595677Z",
     "iopub.status.busy": "2023-06-27T08:47:27.595103Z",
     "iopub.status.idle": "2023-06-27T08:47:27.643338Z",
     "shell.execute_reply": "2023-06-27T08:47:27.642131Z"
    },
    "id": "n07bs65Isfyz",
    "papermill": {
     "duration": 0.059749,
     "end_time": "2023-06-27T08:47:27.647136",
     "exception": false,
     "start_time": "2023-06-27T08:47:27.587387",
     "status": "completed"
    },
    "tags": []
   },
   "outputs": [],
   "source": [
    "predictions = model.predict(test_data.drop('SalePrice', axis=1))\n",
    "\n",
    "submission = pd.read_csv(\"/kaggle/input/house-prices-advanced-regression-techniques/sample_submission.csv\")\n",
    "submission['SalePrice'] = predictions\n",
    "\n",
    "submission.to_csv('submission_csv', index=False)"
   ]
  },
  {
   "cell_type": "code",
   "execution_count": null,
   "id": "16b1768a",
   "metadata": {
    "papermill": {
     "duration": 0.013101,
     "end_time": "2023-06-27T08:47:27.669277",
     "exception": false,
     "start_time": "2023-06-27T08:47:27.656176",
     "status": "completed"
    },
    "tags": []
   },
   "outputs": [],
   "source": []
  }
 ],
 "metadata": {
  "kernelspec": {
   "display_name": "Python 3",
   "language": "python",
   "name": "python3"
  },
  "language_info": {
   "codemirror_mode": {
    "name": "ipython",
    "version": 3
   },
   "file_extension": ".py",
   "mimetype": "text/x-python",
   "name": "python",
   "nbconvert_exporter": "python",
   "pygments_lexer": "ipython3",
   "version": "3.10.10"
  },
  "papermill": {
   "default_parameters": {},
   "duration": 19.944575,
   "end_time": "2023-06-27T08:47:29.609923",
   "environment_variables": {},
   "exception": null,
   "input_path": "__notebook__.ipynb",
   "output_path": "__notebook__.ipynb",
   "parameters": {},
   "start_time": "2023-06-27T08:47:09.665348",
   "version": "2.4.0"
  }
 },
 "nbformat": 4,
 "nbformat_minor": 5
}
